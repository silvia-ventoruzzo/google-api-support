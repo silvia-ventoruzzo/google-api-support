{
 "cells": [
  {
   "cell_type": "code",
   "execution_count": 3,
   "id": "361f3763",
   "metadata": {},
   "outputs": [],
   "source": [
    "from GoogleApiSupport import slides\n",
    "from GoogleApiSupport import sheets"
   ]
  },
  {
   "cell_type": "markdown",
   "id": "cd1277e7",
   "metadata": {},
   "source": [
    "![Before](docs/img/shape_chart1.JPG)"
   ]
  },
  {
   "cell_type": "code",
   "execution_count": null,
   "id": "b2004e2b",
   "metadata": {},
   "outputs": [],
   "source": [
    "sheets.get_sheet_charts('1bzEtOL5liCk51dIRn2jDO2YGSOaZ627Eyb8ap80-blk', 'Sheet1')[0]['chartId']"
   ]
  },
  {
   "cell_type": "code",
   "execution_count": null,
   "id": "9c144cd0",
   "metadata": {},
   "outputs": [],
   "source": [
    "slides.replace_shape_with_chart('1WJ-5TBcOK_5ZTmCeJ_edo-v3BlCnbtgdyPDtMeHPGOA', '{{chart1}}','1bzEtOL5liCk51dIRn2jDO2YGSOaZ627Eyb8ap80-blk', '881427759')"
   ]
  },
  {
   "cell_type": "code",
   "execution_count": null,
   "id": "82f4ee57",
   "metadata": {},
   "outputs": [],
   "source": [
    "![Final](docs/img/final_chart.JPG)"
   ]
  },
  {
   "cell_type": "code",
   "execution_count": null,
   "id": "181d5a8f",
   "metadata": {},
   "outputs": [],
   "source": []
  }
 ],
 "metadata": {
  "kernelspec": {
   "display_name": "Python 3 (ipykernel)",
   "language": "python",
   "name": "python3"
  },
  "language_info": {
   "codemirror_mode": {
    "name": "ipython",
    "version": 3
   },
   "file_extension": ".py",
   "mimetype": "text/x-python",
   "name": "python",
   "nbconvert_exporter": "python",
   "pygments_lexer": "ipython3",
   "version": "3.10.0"
  }
 },
 "nbformat": 4,
 "nbformat_minor": 5
}
