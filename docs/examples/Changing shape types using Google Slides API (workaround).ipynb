{
 "cells": [
  {
   "cell_type": "markdown",
   "id": "6316f8bc",
   "metadata": {},
   "source": [
    "# Changing shape types using Google Slides API (workaround)"
   ]
  },
  {
   "cell_type": "markdown",
   "id": "edf760f2",
   "metadata": {},
   "source": [
    "This notebook will show how to achieve the desired functionality using Google Slides API and some techniques and workarounds.\n",
    "\n",
    "As seen in the [Issue#5](https://github.com/vperezb/google-api-support/issues/7), there's a need to replace a predefined shape with a certain placeholder (can be for example `{{arrow1}}`) with a desired shape.\n",
    "\n",
    "As in Google Slides API there's no chance to update a shapeType, the found workaround is to delete and create a new shape using the same `size` and `transform`. \n",
    "\n",
    "1. To find the element to be \"replaced\" (deleted and re-created) we use a recursive find function `slides.get_all_shapes_placeholders` which returns all the page_element ids and it's inner text (that we agreed on using it as a placeholder).\n",
    "\n",
    "2. Get the whole page element to retrieve the `size` and `transform` fields using `slides.get_element_page`.\n",
    "\n",
    "3. Use `slides.update_shape_type` to update the shape type. [Check here all shape types](https://developers.google.com/slides/api/reference/rest/v1/presentations.pages/shapes#type)"
   ]
  },
  {
   "cell_type": "markdown",
   "id": "2e250dd3",
   "metadata": {},
   "source": [
    "## How to reproduce the usecase, setting the \n",
    "\n",
    "1. Create a presentation and replace the string `'YOUR_PRESENTATION_ID'`\n",
    "2. Create a shape, a RECTANGLE is enough\n",
    "3. Write `{{arrow1}}` inside the new created shape\n",
    "4. Execute the following cells and see how the rectangle is changed to an arrow and keeps its id"
   ]
  },
  {
   "cell_type": "code",
   "execution_count": 1,
   "id": "02d15c30",
   "metadata": {},
   "outputs": [],
   "source": [
    "from GoogleApiSupport import slides"
   ]
  },
  {
   "cell_type": "code",
   "execution_count": 2,
   "id": "9b117bca",
   "metadata": {},
   "outputs": [],
   "source": [
    "presentation_id = 'YOUR_PRESENTATION_ID'"
   ]
  },
  {
   "cell_type": "code",
   "execution_count": 3,
   "id": "de6b6290",
   "metadata": {},
   "outputs": [
    {
     "data": {
      "text/plain": [
       "{'g120e3020a75_0_0': {'inner_text': '{{arrow1}}', 'page_id': 'p'}}"
      ]
     },
     "execution_count": 3,
     "metadata": {},
     "output_type": "execute_result"
    }
   ],
   "source": [
    "shapes_placeholders = slides.get_all_shapes_placeholders(presentation_id)\n",
    "shapes_placeholders"
   ]
  },
  {
   "cell_type": "code",
   "execution_count": 4,
   "id": "23638be4",
   "metadata": {},
   "outputs": [
    {
     "name": "stdout",
     "output_type": "stream",
     "text": [
      "{'presentationId': '1WJ-5TBcOK_5ZTmCeJ_edo-v3BlCnbtgdyPDtMeHPGOA', 'replies': [{}, {'createShape': {'objectId': 'g120e3020a75_0_0'}}], 'writeControl': {'requiredRevisionId': 'j4TqK1wbgDK6_Q'}}\n"
     ]
    }
   ],
   "source": [
    "for page_element_id, value in shapes_placeholders.items():\n",
    "    if value:\n",
    "        if value.get('inner_text') == '{{arrow1}}':\n",
    "            page_id = value['page_id']\n",
    "            page_element = slides.get_page_element(presentation_id, page_element_id)\n",
    "\n",
    "            response = slides.update_shape_type(\n",
    "                presentation_id, \n",
    "                page_id, \n",
    "                page_element, \n",
    "                shape_type='RIGHT_ARROW')\n",
    "\n",
    "            print(response)"
   ]
  },
  {
   "cell_type": "code",
   "execution_count": null,
   "id": "a48f6d00",
   "metadata": {},
   "outputs": [],
   "source": []
  },
  {
   "cell_type": "code",
   "execution_count": null,
   "id": "5884bbf7",
   "metadata": {},
   "outputs": [],
   "source": []
  }
 ],
 "metadata": {
  "kernelspec": {
   "display_name": "Python 3 (ipykernel)",
   "language": "python",
   "name": "python3"
  },
  "language_info": {
   "codemirror_mode": {
    "name": "ipython",
    "version": 3
   },
   "file_extension": ".py",
   "mimetype": "text/x-python",
   "name": "python",
   "nbconvert_exporter": "python",
   "pygments_lexer": "ipython3",
   "version": "3.10.0"
  }
 },
 "nbformat": 4,
 "nbformat_minor": 5
}
